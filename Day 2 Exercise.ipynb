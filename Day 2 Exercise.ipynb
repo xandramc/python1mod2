{
 "cells": [
  {
   "cell_type": "markdown",
   "metadata": {},
   "source": [
    "## Exercises\n",
    "### Write the pseudocode for these problems. \n",
    "\n",
    "#### Define the problem by constructing an IPO diagram showing input, output, and processing steps\n",
    "Ask yourself\n",
    "- What control structures (sequence, selection and repetition) are required?\n",
    "- What variables are required?\n",
    "\n",
    "Show a check of your solution with **test data** for at least **two valid test cases**\n",
    "If you use the numbers provided in the example then the correct pseudocode will calculate the same result.\n",
    "    "
   ]
  },
  {
   "cell_type": "markdown",
   "metadata": {},
   "source": [
    "#### 1. Find the average score\n",
    "A program is needed to prompt the user operator for exam scores, calculate the average score and display the result to the screen. The average score is calculated as the sum of the scores divided by the number of scores."
   ]
  },
  {
   "cell_type": "markdown",
   "metadata": {},
   "source": [
    "**Input:** exam scores  \n",
    "\n",
    "**Process:**   \n",
    "START  \n",
    "        Set sum to 0  \n",
    "    LOOP Request number from user  \n",
    "    Add number to sum  \n",
    "    IF more numbers, BEGIN LOOP again  \n",
    "    ELSE   \n",
    "    END LOOP   \n",
    "    Divide sum by number of entries given  \n",
    "    Display average score to user  \n",
    "STOP  \n",
    "\n",
    "**Output:** average score  \n",
    "\n",
    "_(Note: don't know how many scores will be entered)_   \n",
    "\n",
    "**Example 1:**\n",
    "1. Set sum to 0\n",
    "2. Request number from user: 87\n",
    "3. Add to sum: 87\n",
    "4. More numbers?\n",
    "5. yes\n",
    "6. Request number from user: 93\n",
    "7. Add to sum: 180\n",
    "8. More numbers?\n",
    "9. Yes\n",
    "10. Request number from user: 76\n",
    "11. Add to sum: 256\n",
    "12. More numbers?\n",
    "13. No\n",
    "14. Divide sum by number of entries given: 256/3 = 85.33\n",
    "15. Display average score to user: 85.33  \n",
    "\n",
    "**Example 2:**\n",
    "1. Set sum to 0\n",
    "2. Request number from user: 56\n",
    "3. Add to sum: 56\n",
    "4. More numbers?\n",
    "5. yes\n",
    "6. Request number from user: 97\n",
    "7. Add to sum: 153\n",
    "8. More numbers?\n",
    "9. Yes\n",
    "10. Request number from user: 82\n",
    "11. Add to sum: 235\n",
    "12. More numbers?\n",
    "13. yes\n",
    "14. Request number from user: 77\n",
    "15. Add to sum: 312\n",
    "16. More numbers?\n",
    "17. yes\n",
    "18. Request number from user: 85\n",
    "19. Add to sum: 397\n",
    "20. More numbers?\n",
    "21. no\n",
    "22. Divide sum by number of entries given: 397/5 = 79.4\n",
    "23. Display average score to user: 79.4"
   ]
  },
  {
   "cell_type": "markdown",
   "metadata": {},
   "source": [
    "#### 2. How much water runs off a roof in a rain storm?\n",
    "To calculate the runoff from any given rainfall: Take the dimensions of the footprint of the roof and convert them to inches. (So, a 50' x 20' roof is 600\" x 240\"). Multiply the roof dimensions by the number of inches of rainfall. As an example, 600\" x 240\" x 1\" = 144,000 cubic inches of water for an inch of rainfall. Divide that result by 231 to get the number of gallons (because 1 gallon = 231 cubic inches). (144,000/231 = 623.38)."
   ]
  },
  {
   "cell_type": "markdown",
   "metadata": {},
   "source": [
    "**Input:**  \n",
    "Footprint of the roof (in feet): length and width  \n",
    "Rainfall (in inches)  \n",
    "\n",
    "**Process:**  \n",
    "START  \n",
    "Request length of roof in feet  \n",
    "Multipy answer by 12  \n",
    "Request width of roof in feet  \n",
    "Multiply answer by 12  \n",
    "Request amount of rainfall in inches  \n",
    "Multiply answer by previous two answers  \n",
    "Divide resulting answer by 231 in order to obtain sum  \n",
    "Display sum to user  \n",
    "STOP  \n",
    "\n",
    "**Output:**  \n",
    "Rainfall runoff in gallons  \n",
    "\n",
    "_(Note: answers in gallons)_  \n",
    "\n",
    "**Example 1:**\n",
    "1. Request length of roof in feet: 56\n",
    "2. Multiply answer by 12: 672\n",
    "3. Request width of roof in feet: 48\n",
    "4. Multiply answer by 12: 576\n",
    "5. Request amount of rainfall in inches: 3\n",
    "6. Multiply answer by previous two answers: 672 x 576 x 3 = 1,161,216\n",
    "7. Divide answer by 231: 1,161,216/231 =  5,026.90\n",
    "8. Display answer to user: 5,026.90 gallons\n",
    "\n",
    "**Example 2:**\n",
    "1. Request length of roof in feet: 32\n",
    "2. Multiply answer by 12: 384\n",
    "3. Request width of roof in feet: 20\n",
    "4. Multiply answer by 12: 240\n",
    "5. Request amount of rainfall in inches: 2\n",
    "6. Multiply answer by previous two answers: 384 x 240 x 2 = 46,080\n",
    "7. Divide answer by 231: 46,080/231 =  199.48\n",
    "8. Display answer to user: 199.49 gallons"
   ]
  },
  {
   "cell_type": "markdown",
   "metadata": {},
   "source": [
    "#### 3. Process customer record\n",
    "A program is required to read a customer’s name, a purchase amount and a tax code. The tax code has been validated and will be one of the following: 0 tax exempt (0%) 1 state sales tax only (3%) 2 federal and state sales tax (5%) 3 special sales tax (7%) The program must then compute the sales tax and the total amount due,and print the customer’s name, purchase amount, sales tax and total amount due."
   ]
  },
  {
   "cell_type": "markdown",
   "metadata": {},
   "source": [
    "**Input:**  \n",
    "Customer's Name  \n",
    "Purchase amount  \n",
    "Tax code  \n",
    "\n",
    "**Process:**  \n",
    "START  \n",
    "Request Customer Name  \n",
    "Request purchase amount  \n",
    "Request tax code  \n",
    "Multiply purchase amount by corresponding tax code response  \n",
    "Add sum to purchase amount to get total amount due  \n",
    "Display customer name  \n",
    "Display purchase amount  \n",
    "Display sales tax  \n",
    "Display total amount due  \n",
    "STOP  \n",
    "\n",
    "**Output:**  \n",
    "Customer Name  \n",
    "Purchase Amount  \n",
    "Sales Tax  \n",
    "Total Amount Duee"
   ]
  },
  {
   "cell_type": "markdown",
   "metadata": {},
   "source": [
    "#### 4. Calculate employee's pay \n",
    "A program is required by a company to read an employee’s number, pay rate and the number of hours worked in a week. The program is then to validate the pay rate field and the hours worked field and, if valid, compute the employee’s weekly pay and then print it and the input data.\n",
    "\n",
    "Validation: According to the company’s rules, the maximum hours an employee can work per week is 60 hours, and the maximum hourly rate is $25.00 per hour. If the hours worked field or the hourly rate field is out of range, the input data and an appropriate message are to be printed and the employee’s weekly pay is not to be calculated.\n",
    "\n",
    "Weekly pay calculation: Weekly pay is calculated as hours worked times pay rate. If more than 35 hours are worked, payment for the overtime hours worked is calculated at time-and-a-half."
   ]
  },
  {
   "cell_type": "markdown",
   "metadata": {},
   "source": [
    "Input:\n",
    "Process:\n",
    "Output: \n",
    "_Note: if valid then can just calculate weekly pay_"
   ]
  }
 ],
 "metadata": {
  "kernelspec": {
   "display_name": "Python 3",
   "language": "python",
   "name": "python3"
  },
  "language_info": {
   "codemirror_mode": {
    "name": "ipython",
    "version": 3
   },
   "file_extension": ".py",
   "mimetype": "text/x-python",
   "name": "python",
   "nbconvert_exporter": "python",
   "pygments_lexer": "ipython3",
   "version": "3.8.8"
  }
 },
 "nbformat": 4,
 "nbformat_minor": 2
}
